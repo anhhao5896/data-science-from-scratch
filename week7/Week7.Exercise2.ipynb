{
  "cells": [
    {
      "cell_type": "markdown",
      "metadata": {
        "id": "zr5x0k8Tu3E7"
      },
      "source": [
        "https://colab.research.google.com/github/JunetaeKim/PythonClass/blob/main/week7/Week7.Exercise2.ipynb\n",
        "### 1. Create a Python class Person that represents a person with a name, age, and address.\n",
        "### The class should have methods to update the person's age and address.\n",
        "#### Tip: Store the person's name, age, and address as instance attributes, and update them in the corresponding methods."
      ],
      "id": "zr5x0k8Tu3E7"
    },
    {
      "cell_type": "code",
      "execution_count": 3,
      "metadata": {
        "id": "A4DjxJGLu3E8"
      },
      "outputs": [],
      "source": [
        "class Person:\n",
        "    def __init__(self, name, age, address):\n",
        "        self.name = name\n",
        "        self.age = age\n",
        "        self.address = address\n",
        "\n",
        "    def update_age(self, new_age):\n",
        "        self.age = new_age\n",
        "\n",
        "    def update_address(self, new_address):\n",
        "        self.address = new_address"
      ],
      "id": "A4DjxJGLu3E8"
    },
    {
      "cell_type": "code",
      "execution_count": 4,
      "metadata": {
        "id": "Of0m0DeVu3E9",
        "outputId": "e54612aa-3bbd-4564-c074-ca331cd9719e",
        "colab": {
          "base_uri": "https://localhost:8080/"
        }
      },
      "outputs": [
        {
          "output_type": "stream",
          "name": "stdout",
          "text": [
            "Name: Alice\n",
            "Age: 31\n",
            "Address: 456 Elm St\n"
          ]
        }
      ],
      "source": [
        "# Create a Person object with a name, age, and address\n",
        "person = Person(\"Alice\", 30, \"123 Main St\")\n",
        "\n",
        "# Update the person's age and address\n",
        "person.update_age(31)\n",
        "person.update_address(\"456 Elm St\")\n",
        "\n",
        "print(\"Name:\", person.name)  # Output: Name: Alice\n",
        "print(\"Age:\", person.age)  # Output: Age: 31\n",
        "print(\"Address:\", person.address)  # Output: Address: 456 Elm St"
      ],
      "id": "Of0m0DeVu3E9"
    },
    {
      "cell_type": "code",
      "execution_count": null,
      "metadata": {
        "id": "OwLUXxi1u3E-"
      },
      "outputs": [],
      "source": [],
      "id": "OwLUXxi1u3E-"
    },
    {
      "cell_type": "markdown",
      "metadata": {
        "tags": [],
        "id": "G6iu_fADu3E-"
      },
      "source": [
        "### 2. Problem: Create a Python class Student that inherits from the Person class and adds a grades attribute, which is a dictionary of subjects and grades.\n",
        "### The class should have methods to add a grade for a subject and calculate the grade point average (GPA).\n",
        "#### Tip: Initialize the grades attribute as an empty dictionary and update it in the add_grade method.\n",
        "#### To calculate the GPA, find the average of all grades in the dictionary."
      ],
      "id": "G6iu_fADu3E-"
    },
    {
      "cell_type": "code",
      "execution_count": null,
      "metadata": {
        "id": "oRnoQX_Xu3E-"
      },
      "outputs": [],
      "source": [
        "class Student(Person):\n",
        "    def __init__(self, name, age, address):\n",
        "        super().__init__(name, age, address)\n",
        "        # Your code here\n",
        "\n",
        "    def add_grade(self, subject, grade):\n",
        "        # Your code here\n",
        "\n",
        "    def calculate_gpa(self):\n",
        "        # Your code here"
      ],
      "id": "oRnoQX_Xu3E-"
    },
    {
      "cell_type": "code",
      "execution_count": null,
      "metadata": {
        "id": "Cb4GgKCHu3E_"
      },
      "outputs": [],
      "source": [
        "# Create a Student object with a name, age, and address\n",
        "student = Student(\"Bob\", 20, \"789 Maple St\")\n",
        "\n",
        "# Add grades for different subjects\n",
        "student.add_grade(\"Math\", 95)\n",
        "student.add_grade(\"English\", 85)\n",
        "student.add_grade(\"History\", 90)\n",
        "\n",
        "# Calculate the student's GPA\n",
        "gpa = student.calculate_gpa()\n",
        "\n",
        "print(\"Name:\", student.name)  # Output: Name: Bob\n",
        "print(\"Age:\", student.age)  # Output: Age: 20\n",
        "print(\"Address:\", student.address)  # Output: Address: 789 Maple St\n",
        "print(\"Grades:\", student.grades)  # Output: Grades: {'Math': 95, 'English': 85, 'History': 90}\n",
        "print(\"GPA:\", gpa)  # Output: GPA: 90.0"
      ],
      "id": "Cb4GgKCHu3E_"
    }
  ],
  "metadata": {
    "kernelspec": {
      "display_name": "Python 3",
      "language": "python",
      "name": "python3"
    },
    "language_info": {
      "codemirror_mode": {
        "name": "ipython",
        "version": 3
      },
      "file_extension": ".py",
      "mimetype": "text/x-python",
      "name": "python",
      "nbconvert_exporter": "python",
      "pygments_lexer": "ipython3",
      "version": "3.8.5"
    },
    "colab": {
      "provenance": []
    }
  },
  "nbformat": 4,
  "nbformat_minor": 5
}